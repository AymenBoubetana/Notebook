{
 "cells": [
  {
   "cell_type": "markdown",
   "id": "f9d71f20",
   "metadata": {},
   "source": [
    "# Data Science Tools and Ecosystem\n"
   ]
  },
  {
   "cell_type": "markdown",
   "id": "2e265e78",
   "metadata": {},
   "source": [
    "In this notebook, Data Science Tools and Ecosystem are summarized."
   ]
  },
  {
   "cell_type": "markdown",
   "id": "efe00281",
   "metadata": {},
   "source": [
    "**Objectives:**\n",
    "* list popular languages for data science.\n",
    "* list popular libraries for data science.\n",
    "* make some arithmetics operations.\n",
    "* convert a number un minutes to hours ."
   ]
  },
  {
   "cell_type": "markdown",
   "id": "15d1354f",
   "metadata": {},
   "source": [
    "Some of the popular languages that Data Scientists use are:\n",
    "1. Python.\n",
    "2. R.\n",
    "3. Sql language.\n"
   ]
  },
  {
   "cell_type": "markdown",
   "id": "956b42a9",
   "metadata": {},
   "source": [
    "Some of the commonly used libraries used by Data Scientists include:\n",
    "\n",
    " 1. Pandas.\n",
    " 2. numpy.\n",
    " 3. ggplot."
   ]
  },
  {
   "cell_type": "markdown",
   "id": "431fdad1",
   "metadata": {},
   "source": [
    "| Data Science Tools    |\n",
    "|---------------------- |\n",
    "| Jupyter notebook      |\n",
    "| jupyter lab           |\n",
    "| Google colaboratory   |\n"
   ]
  },
  {
   "cell_type": "markdown",
   "id": "be03a042",
   "metadata": {},
   "source": [
    "### Below are a few examples of evaluating arithmetic expressions in Python"
   ]
  },
  {
   "cell_type": "markdown",
   "id": "4565709d",
   "metadata": {},
   "source": [
    "This a simple arithmetic expression to mutiply then add integers"
   ]
  },
  {
   "cell_type": "code",
   "execution_count": 6,
   "id": "90b6f0bb",
   "metadata": {},
   "outputs": [
    {
     "data": {
      "text/plain": [
       "17"
      ]
     },
     "execution_count": 6,
     "metadata": {},
     "output_type": "execute_result"
    }
   ],
   "source": [
    "(3*4)+5"
   ]
  },
  {
   "cell_type": "markdown",
   "id": "f2f98b63",
   "metadata": {},
   "source": [
    "This will convert 200 minutes to hours by diving by 60"
   ]
  },
  {
   "cell_type": "code",
   "execution_count": 7,
   "id": "45da758b",
   "metadata": {},
   "outputs": [
    {
     "data": {
      "text/plain": [
       "3.3333333333333335"
      ]
     },
     "execution_count": 7,
     "metadata": {},
     "output_type": "execute_result"
    }
   ],
   "source": [
    "200/60"
   ]
  },
  {
   "cell_type": "markdown",
   "id": "3d0a5d95",
   "metadata": {},
   "source": [
    "## Author\n",
    "Aymen Boubetana."
   ]
  }
 ],
 "metadata": {
  "kernelspec": {
   "display_name": "Python 3 (ipykernel)",
   "language": "python",
   "name": "python3"
  },
  "language_info": {
   "codemirror_mode": {
    "name": "ipython",
    "version": 3
   },
   "file_extension": ".py",
   "mimetype": "text/x-python",
   "name": "python",
   "nbconvert_exporter": "python",
   "pygments_lexer": "ipython3",
   "version": "3.11.5"
  }
 },
 "nbformat": 4,
 "nbformat_minor": 5
}
